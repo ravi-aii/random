{
 "cells": [
  {
   "cell_type": "code",
   "execution_count": 3,
   "metadata": {},
   "outputs": [],
   "source": [
    "def getSquare(number):\n",
    "    print(   number*number   )"
   ]
  },
  {
   "cell_type": "code",
   "execution_count": 4,
   "metadata": {},
   "outputs": [
    {
     "name": "stdout",
     "output_type": "stream",
     "text": [
      "49\n"
     ]
    }
   ],
   "source": [
    "getSquare(7)"
   ]
  },
  {
   "cell_type": "code",
   "execution_count": 5,
   "metadata": {},
   "outputs": [],
   "source": [
    "def getsum(x,y):\n",
    "    print(x+y)"
   ]
  },
  {
   "cell_type": "code",
   "execution_count": 6,
   "metadata": {},
   "outputs": [
    {
     "name": "stdout",
     "output_type": "stream",
     "text": [
      "25\n"
     ]
    }
   ],
   "source": [
    "getsum(10,15)"
   ]
  },
  {
   "cell_type": "code",
   "execution_count": 7,
   "metadata": {},
   "outputs": [],
   "source": [
    "#return"
   ]
  },
  {
   "cell_type": "code",
   "execution_count": null,
   "metadata": {},
   "outputs": [],
   "source": [
    "def caught_speeding(speed, isBirthday):\n",
    "    if isBirthday==True:\n",
    "        speeding=speed-5\n",
    "    else:\n",
    "        speeding=spped\n",
    "        \n",
    "    if speed>=81:\n",
    "        print(\"Big ticket\")\n",
    "    elif speed>=61: \n",
    "        print(\"small ticket\")\n",
    "    else:\n",
    "        print(\"No ticket\")\n",
    "\n",
    "caught_speeding(81,True)"
   ]
  },
  {
   "cell_type": "code",
   "execution_count": null,
   "metadata": {},
   "outputs": [],
   "source": [
    "import ast\n",
    "spd=ast.literal_eval(input('enter speed\\n'))\n",
    "bdy=ast.literal_eval(input('enter Birthday\\n'))\n",
    "caught_speeding(spd,bdy)"
   ]
  },
  {
   "cell_type": "code",
   "execution_count": null,
   "metadata": {},
   "outputs": [],
   "source": [
    "#final exercise\n",
    "shopping_list=[\"banana\", \"orange\", \"apple\", \"candy\"]\n",
    "stock={\n",
    "    \"banana\":6,\n",
    "    \"apple\":0,\n",
    "    \"orange\":32,\n",
    "    \"pear\":15\n",
    "}\n",
    "\n",
    "prices={\n",
    "    \"banana\":4,\n",
    "    \"apple\":2,\n",
    "    \"orange\":1.5,\n",
    "    \"pear\":3\n",
    "}\n",
    "for item  in shopping_list:\n",
    "    print(item,)"
   ]
  },
  {
   "cell_type": "code",
   "execution_count": null,
   "metadata": {},
   "outputs": [],
   "source": [
    "shopping_list = [\"banana\", \"orange\", \"apple\",\"candy\"]\n",
    "\n",
    "stock = {\n",
    "    \"banana\": 6,\n",
    "    \"apple\": 0,\n",
    "    \"orange\": 32,\n",
    "    \"pear\": 15\n",
    "}\n",
    "\n",
    "prices = {\n",
    "    \"banana\": 4,\n",
    "    \"apple\": 2,\n",
    "    \"orange\": 1.5,\n",
    "    \"pear\": 3\n",
    "}\n",
    "\n",
    "'''i am calculating price only if \n",
    "item is there in stock and qty of item>0'''"
   ]
  },
  {
   "cell_type": "code",
   "execution_count": null,
   "metadata": {},
   "outputs": [],
   "source": [
    "totalBill=0\n",
    "for item in shopping_list:\n",
    "    if item in stock and stock.get(item,0)>0 : \n",
    "        \n",
    "        totalBill+=  prices[item]\n",
    "        \n",
    "        totalBill = totalBill + prices[item]\n",
    "totalBill"
   ]
  },
  {
   "cell_type": "code",
   "execution_count": null,
   "metadata": {},
   "outputs": [],
   "source": []
  }
 ],
 "metadata": {
  "kernelspec": {
   "display_name": "Python 3",
   "language": "python",
   "name": "python3"
  },
  "language_info": {
   "codemirror_mode": {
    "name": "ipython",
    "version": 3
   },
   "file_extension": ".py",
   "mimetype": "text/x-python",
   "name": "python",
   "nbconvert_exporter": "python",
   "pygments_lexer": "ipython3",
   "version": "3.8.5"
  }
 },
 "nbformat": 4,
 "nbformat_minor": 4
}
