{
 "cells": [
  {
   "cell_type": "markdown",
   "metadata": {},
   "source": [
    "## Quizes: Control structure ##"
   ]
  },
  {
   "cell_type": "markdown",
   "metadata": {},
   "source": [
    "### Q1 ###"
   ]
  },
  {
   "cell_type": "markdown",
   "metadata": {},
   "source": [
    "Map Function\n",
    "Description\n",
    "Using the function Map, count the number of words that start with ‘S’ in input_list.\n",
    "Sample Input:\n",
    "['Santa Cruz','Santa fe','Mumbai','Delhi']\n",
    "Sample Output:\n",
    "2"
   ]
  },
  {
   "cell_type": "code",
   "execution_count": 15,
   "metadata": {},
   "outputs": [
    {
     "data": {
      "text/plain": [
       "2"
      ]
     },
     "execution_count": 15,
     "metadata": {},
     "output_type": "execute_result"
    }
   ],
   "source": [
    "input_list=['Santa Cruz','Santa fe','Mumbai','Delhi']\n",
    "sum(map(lambda x: x[0]=='S', input_list))\n",
    "#list(map(lambda x: x[0]=='S', input_list))\n"
   ]
  },
  {
   "cell_type": "code",
   "execution_count": 18,
   "metadata": {},
   "outputs": [
    {
     "data": {
      "text/plain": [
       "2"
      ]
     },
     "execution_count": 18,
     "metadata": {},
     "output_type": "execute_result"
    }
   ],
   "source": [
    "list(map(lambda x:x[0]=='S',input_list)).count(True)"
   ]
  },
  {
   "cell_type": "code",
   "execution_count": 20,
   "metadata": {},
   "outputs": [
    {
     "name": "stdout",
     "output_type": "stream",
     "text": [
      "[('Ankur', 'Narang'), ('Avik', 'Sarkar'), ('Kiran', 'R'), ('Nitin', 'Sareen')]\n"
     ]
    }
   ],
   "source": [
    "input_list=[['Ankur', 'Avik', 'Kiran', 'Nitin'], ['Narang', 'Sarkar', 'R', 'Sareen']]\n",
    "first_name = input_list[0]\n",
    "last_name = input_list[1]\n",
    "input_list\n",
    "\n",
    "a=zip(input_list[0],input_list[1])\n",
    "print(list(a))"
   ]
  },
  {
   "cell_type": "code",
   "execution_count": null,
   "metadata": {},
   "outputs": [],
   "source": []
  },
  {
   "cell_type": "code",
   "execution_count": 25,
   "metadata": {},
   "outputs": [
    {
     "name": "stdout",
     "output_type": "stream",
     "text": [
      "Varma\n",
      "Raj\n",
      "Gupta\n",
      "Sandeep\n",
      "['Varma', 'Raj', 'Gupta', 'Sandeep']\n"
     ]
    }
   ],
   "source": [
    "input_list=['VARMA', 'raj', 'Gupta', 'SaNdeeP']\n",
    "a=[]\n",
    "for i in range(len(input_list)):\n",
    "    a.append(input_list[i].capitalize())\n",
    "    print(a[i])\n",
    "print(a)"
   ]
  },
  {
   "cell_type": "code",
   "execution_count": 17,
   "metadata": {},
   "outputs": [
    {
     "data": {
      "text/plain": [
       "'Varma'"
      ]
     },
     "execution_count": 17,
     "metadata": {},
     "output_type": "execute_result"
    }
   ],
   "source": [
    "input_list=['VARMA', 'raj', 'Gupta', 'SaNdeeP']\n",
    "a=(\"helLLo\")\n",
    "input_list[0].capitalize()\n"
   ]
  },
  {
   "cell_type": "code",
   "execution_count": 34,
   "metadata": {},
   "outputs": [
    {
     "data": {
      "text/plain": [
       "['old', 'Apple', 'item', 'euphoria']"
      ]
     },
     "execution_count": 34,
     "metadata": {},
     "output_type": "execute_result"
    }
   ],
   "source": [
    "input_list=['wood','old','Apple','big','item','euphoria']\n",
    "a=[]\n",
    "for i in range(len(input_list)):\n",
    "               if input_list[i][0].lower() in ['a','e','i','o','u']:\n",
    "                   a.append(input_list[i])\n",
    "               \n",
    "a\n",
    "               \n",
    "    \n"
   ]
  },
  {
   "cell_type": "code",
   "execution_count": null,
   "metadata": {},
   "outputs": [],
   "source": []
  },
  {
   "cell_type": "markdown",
   "metadata": {},
   "source": [
    "Q4:\n",
    "Description\n",
    "Using the Reduce function, concatenate a list of words in input_list, and print the output as a string.\n",
    "\n",
    "If input_list = ['I','Love','Python'], the output should be the string 'I Love Python'.\n",
    "\n",
    "Sample Input:\n",
    "\n",
    "['All','you','have','to','fear','is','fear','itself']\n",
    "\n",
    "Sample Output:\n",
    "\n",
    "﻿All you have to fear is fear itself"
   ]
  },
  {
   "cell_type": "code",
   "execution_count": 28,
   "metadata": {},
   "outputs": [
    {
     "data": {
      "text/plain": [
       "'I Love Python'"
      ]
     },
     "execution_count": 28,
     "metadata": {},
     "output_type": "execute_result"
    }
   ],
   "source": [
    "from functools import reduce\n",
    "input_list=['I','Love','Python']\n",
    "\n",
    "#reduce(lambda x,y: x+\" \"+y,input_list)\n",
    "str(reduce(lambda x,y: x+\" \"+y, input_list))"
   ]
  },
  {
   "cell_type": "code",
   "execution_count": null,
   "metadata": {},
   "outputs": [],
   "source": []
  }
 ],
 "metadata": {
  "kernelspec": {
   "display_name": "Python 3",
   "language": "python",
   "name": "python3"
  },
  "language_info": {
   "codemirror_mode": {
    "name": "ipython",
    "version": 3
   },
   "file_extension": ".py",
   "mimetype": "text/x-python",
   "name": "python",
   "nbconvert_exporter": "python",
   "pygments_lexer": "ipython3",
   "version": "3.8.8"
  }
 },
 "nbformat": 4,
 "nbformat_minor": 4
}
